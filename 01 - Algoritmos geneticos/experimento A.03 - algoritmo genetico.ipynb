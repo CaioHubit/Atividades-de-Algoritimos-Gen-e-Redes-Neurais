{
 "cells": [
  {
   "cell_type": "markdown",
   "metadata": {},
   "source": [
    "Algoritmo genético\n",
    "==================\n",
    "\n"
   ]
  },
  {
   "cell_type": "markdown",
   "metadata": {},
   "source": [
    "## Introdução\n",
    "\n"
   ]
  },
  {
   "cell_type": "markdown",
   "metadata": {},
   "source": [
    "`Algoritmos genéticos` são algoritmos inspirados na teoria da evolução de Darwin e são ferramentas poderosas para resolver problemas de otimização. De maneira simples, a estratégia consiste em gerar uma população inicial aleatória e através de seleção, cruzamento e mutação sucessivas, gerar populações seguintes. Se feito de maneira correta, as populações seguintes tendem a ser melhores candidatos para a solução do problema do que as populações anteriores.\n",
    "\n",
    "Um algoritmo genético pode parecer um tanto complexo, porém é possível dividi-lo em partes relativamente simples:\n",
    "\n",
    "1.  Criação da população inicial (aleatória)\n",
    "\n",
    "2.  Cálculo da função objetivo para todos os membros da população inicial e atualização do hall da fama\n",
    "\n",
    "3.  Seleção dos indivíduos (quais seguem pra próxima geração)\n",
    "\n",
    "4.  Cruzamento dos indivíduos selecionados (troca de material genético)\n",
    "\n",
    "5.  Mutação dos indivíduos da população recém-criada (possibilidade de trazer informação nova ao sistema)\n",
    "\n",
    "6.  Cálculo da função objetivo para todos os membros da população recém-criada e atualização do hall da fama\n",
    "\n",
    "7.  Checar os critérios de parada. Caso os critérios não tenham sido atendidos, retornar ao passo 3\n",
    "\n",
    "8.  Retornar para o usuário o hall da fama\n",
    "\n"
   ]
  },
  {
   "cell_type": "markdown",
   "metadata": {},
   "source": [
    "## Glossário\n",
    "\n"
   ]
  },
  {
   "cell_type": "markdown",
   "metadata": {},
   "source": [
    "-   `Indivíduo`: um candidato para a solução do problema\n",
    "\n",
    "-   `População`: um conjunto de candidatos para a solução do problema\n",
    "\n",
    "-   `Gene`: um parâmetro que pertence a um indivíduo\n",
    "\n",
    "-   `Cromossomo` ou `genótipo`: um conjunto de genes\n",
    "\n",
    "-   `Geração`: cada população em uma busca genética faz parte de uma geração. A primeira geração é geralmente formada por indivíduos aleatórios (sorteados dentro do espaço de busca). As gerações seguintes são formadas por seleção, cruzamento e mutação da geração anterior. Um dos critérios de parada possíveis para um algoritmo genético é o número máximo de gerações\n",
    "\n",
    "-   `Função de aptidão` ou `função objetivo` ou `função fitness`: uma função que recebe um indivíduo e retorna o seu valor de aptidão. Em um problema de otimização, nós buscamos encontrar soluções que minimizam ou maximizam o valor de aptidão\n",
    "\n",
    "-   `Seleção`: processo onde utilizamos o valor de aptidão dos indivíduos para selecionar quais irão passar seus genes para a geração seguinte\n",
    "\n",
    "-   `Cruzamento`: processo onde o material genético de indivíduos selecionados é misturado\n",
    "\n",
    "-   `Mutação`: processo onde os genes dos indivíduos selecionados têm uma chance de alterar seu valor. A mutação é o único processo capaz de introduzir informação nova ao pool genético após o sorteio aleatório da primeira geração\n",
    "\n",
    "-   `Hall da fama`: conjunto dos $n$ indivíduos que obtiveram os melhores valores de aptidão durante o processo de busca\n",
    "\n"
   ]
  },
  {
   "cell_type": "markdown",
   "metadata": {},
   "source": [
    "## Reflexões\n",
    "\n"
   ]
  },
  {
   "cell_type": "markdown",
   "metadata": {},
   "source": [
    "Você diria que o algoritmo genético é determinístico ou probabilístico?\n",
    "\n",
    "Será que um algoritmo genético é capaz de encontrar mínimos (ou máximos) da função objetivo?\n",
    "\n",
    "O que será que acontece quando não realizamos a etapa de mutação do algoritmo genético?\n",
    "\n",
    "O que será que acontece quando usamos uma chance de mutação muito alta?\n",
    "\n"
   ]
  },
  {
   "cell_type": "markdown",
   "metadata": {},
   "source": [
    "## Objetivo\n",
    "\n"
   ]
  },
  {
   "cell_type": "markdown",
   "metadata": {},
   "source": [
    "Encontrar uma solução para o problema das caixas binárias usando o algoritmo genético. Considere 4 caixas.\n",
    "\n"
   ]
  },
  {
   "cell_type": "markdown",
   "metadata": {},
   "source": [
    "## Descrição do problema\n",
    "\n"
   ]
  },
  {
   "cell_type": "markdown",
   "metadata": {},
   "source": [
    "O problema das caixas binárias é simples: nós temos um certo número de caixas e cada uma pode conter um valor do conjunto $\\{0, 1\\}$. O objetivo é encontrar uma combinação de caixas onde a soma dos valores contidos dentro delas é máximo.\n",
    "\n"
   ]
  },
  {
   "cell_type": "markdown",
   "metadata": {},
   "source": [
    "## Importações\n",
    "\n"
   ]
  },
  {
   "cell_type": "code",
   "execution_count": 1,
   "metadata": {},
   "outputs": [
    {
     "ename": "ModuleNotFoundError",
     "evalue": "No module named 'funcoes'",
     "output_type": "error",
     "traceback": [
      "\u001b[1;31m---------------------------------------------------------------------------\u001b[0m",
      "\u001b[1;31mModuleNotFoundError\u001b[0m                       Traceback (most recent call last)",
      "\u001b[1;32mC:\\Users\\CAIO22~1\\AppData\\Local\\Temp/ipykernel_20648/1695431527.py\u001b[0m in \u001b[0;36m<module>\u001b[1;34m\u001b[0m\n\u001b[1;32m----> 1\u001b[1;33m \u001b[1;32mfrom\u001b[0m \u001b[0mfuncoes\u001b[0m \u001b[1;32mimport\u001b[0m \u001b[0mpopulacao_cb\u001b[0m \u001b[1;32mas\u001b[0m \u001b[0mcria_populacao_inicial\u001b[0m\u001b[1;33m\u001b[0m\u001b[1;33m\u001b[0m\u001b[0m\n\u001b[0m\u001b[0;32m      2\u001b[0m \u001b[1;32mfrom\u001b[0m \u001b[0mfuncoes\u001b[0m \u001b[1;32mimport\u001b[0m \u001b[0mfuncao_objetivo_pop_cb\u001b[0m \u001b[1;32mas\u001b[0m \u001b[0mfuncao_objetivo_pop\u001b[0m\u001b[1;33m\u001b[0m\u001b[1;33m\u001b[0m\u001b[0m\n\u001b[0;32m      3\u001b[0m \u001b[1;32mfrom\u001b[0m \u001b[0mfuncoes\u001b[0m \u001b[1;32mimport\u001b[0m \u001b[0mselecao_roleta_max\u001b[0m \u001b[1;32mas\u001b[0m \u001b[0mfuncao_selecao\u001b[0m\u001b[1;33m\u001b[0m\u001b[1;33m\u001b[0m\u001b[0m\n",
      "\u001b[1;31mModuleNotFoundError\u001b[0m: No module named 'funcoes'"
     ]
    }
   ],
   "source": [
    "from funcoes import populacao_cb as cria_populacao_inicial\n",
    "from funcoes import funcao_objetivo_pop_cb as funcao_objetivo_pop\n",
    "from funcoes import selecao_roleta_max as funcao_selecao\n",
    "from funcoes import cruzamento_ponto_simples as funcao_cruzamento"
   ]
  },
  {
   "cell_type": "markdown",
   "metadata": {},
   "source": [
    "## Códigos e discussão\n",
    "\n"
   ]
  },
  {
   "cell_type": "code",
   "execution_count": null,
   "metadata": {},
   "outputs": [],
   "source": [
    "# Constantes\n",
    "\n",
    "TAMANHO_POP = 6\n",
    "NUM_GENES = 4\n",
    "NUM_GERACOES = 57\n",
    "CHANCE_CRUZAMENTO = 0.5\n",
    "\n",
    "populacao = cria_populacao_inicial(TAMANHO_POP, NUM_GENES)\n",
    "\n",
    "print(populacao)\n",
    "\n",
    "for n in range (NUM_GERACOES):\n",
    "    fitness = funcao_objetivo_pop_cb(populacao)\n",
    "    populacao = selecao_roleta_max(populacao, fitness)\n",
    "print()\n",
    "print(\"população final:\")\n",
    "print (populacao)"
   ]
  },
  {
   "cell_type": "markdown",
   "metadata": {},
   "source": [
    "## Conclusão\n",
    "\n"
   ]
  },
  {
   "cell_type": "markdown",
   "metadata": {},
   "source": [
    "## Playground\n",
    "\n"
   ]
  },
  {
   "cell_type": "code",
   "execution_count": null,
   "metadata": {},
   "outputs": [],
   "source": []
  }
 ],
 "metadata": {
  "kernelspec": {
   "display_name": "ilumpy",
   "language": "python",
   "name": "ilumpy"
  },
  "language_info": {
   "codemirror_mode": {
    "name": "ipython",
    "version": 3
   },
   "file_extension": ".py",
   "mimetype": "text/x-python",
   "name": "python",
   "nbconvert_exporter": "python",
   "pygments_lexer": "ipython3",
   "version": "3.9.7"
  },
  "org": null
 },
 "nbformat": 4,
 "nbformat_minor": 4
}
