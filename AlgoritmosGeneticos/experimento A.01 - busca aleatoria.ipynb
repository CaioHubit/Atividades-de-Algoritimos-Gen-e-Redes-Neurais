{
 "cells": [
  {
   "cell_type": "markdown",
   "metadata": {},
   "source": [
    "Busca aleatória\n",
    "===============\n",
    "\n"
   ]
  },
  {
   "cell_type": "markdown",
   "metadata": {},
   "source": [
    "## Introdução\n",
    "\n"
   ]
  },
  {
   "cell_type": "markdown",
   "metadata": {},
   "source": [
    "Uma forma simples de se encontrar uma solução para um `problema de otimização` é realizando uma `busca aleatória`. A busca aleatória, como o próprio nome sugere, é um algoritmo onde um certo `espaço de busca` é definido de onde sorteamos `candidatos` de soluções para o problema.\n",
    "\n",
    "Diferentemente de outros algoritmos de otimização, a busca aleatória não requer que a `função objetivo` seja diferenciável nem contínua.\n",
    "\n",
    "Um algoritmo de busca aleatória segue os seguintes passos:\n",
    "\n",
    "1.  Um espaço de busca é definido\n",
    "\n",
    "2.  Um candidato $x$ dentro do espaço de busca é sorteado aleatoriamente\n",
    "\n",
    "3.  Calculamos o resultado da função objetivo para o candidato $x$\n",
    "\n",
    "4.  Se o critério de parada for atingido, encerrar o algoritmo e retornar ao usuário o candidato que teve melhor resultado durante a busca. Do contrário, retorne ao passo 2\n",
    "\n"
   ]
  },
  {
   "cell_type": "markdown",
   "metadata": {},
   "source": [
    "## Reflexões\n",
    "\n"
   ]
  },
  {
   "cell_type": "markdown",
   "metadata": {},
   "source": [
    "Você diria que o algoritmo de busca aleatória é determinístico ou probabilístico?\n",
    "\n",
    "Em quais problemas de otimização você acredita que este algoritmo seja uma boa escolha?\n",
    "\n",
    "Em quais problemas de otimização você acredita que este algoritmo seja uma má escolha?\n",
    "\n"
   ]
  },
  {
   "cell_type": "markdown",
   "metadata": {},
   "source": [
    "## Objetivo\n",
    "\n"
   ]
  },
  {
   "cell_type": "markdown",
   "metadata": {},
   "source": [
    "Encontrar uma solução para o problema das caixas binárias usando o algoritmo de busca aleatória. Considere 4 caixas.\n",
    "\n"
   ]
  },
  {
   "cell_type": "markdown",
   "metadata": {},
   "source": [
    "## Descrição do problema\n",
    "\n"
   ]
  },
  {
   "cell_type": "markdown",
   "metadata": {},
   "source": [
    "O problema das caixas binárias é simples: nós temos um certo número de caixas e cada uma pode conter um valor do conjunto $\\{0, 1\\}$. O objetivo é encontrar uma combinação de caixas onde a soma dos valores contidos dentro delas é máximo.\n",
    "\n",
    "Como todo problema computacional, um dos desafios é &ldquo;traduzir&rdquo; o problema dado em estruturas computacionais.\n",
    "\n"
   ]
  },
  {
   "cell_type": "markdown",
   "metadata": {},
   "source": [
    "## Importações\n",
    "\n"
   ]
  },
  {
   "cell_type": "code",
   "execution_count": 1,
   "metadata": {},
   "outputs": [],
   "source": [
    "from funcoes import funcao_objetivo_cb\n",
    "import itertools"
   ]
  },
  {
   "cell_type": "markdown",
   "metadata": {},
   "source": [
    "## Códigos e discussão\n",
    "\n"
   ]
  },
  {
   "cell_type": "code",
   "execution_count": 2,
   "metadata": {},
   "outputs": [
    {
     "name": "stdout",
     "output_type": "stream",
     "text": [
      "[0, 0, 0, 0] 0\n",
      "[0, 0, 0, 1] 1\n",
      "[0, 0, 1, 0] 1\n",
      "[0, 0, 1, 1] 2\n",
      "[0, 1, 0, 0] 1\n",
      "[0, 1, 0, 1] 2\n",
      "[0, 1, 1, 0] 2\n",
      "[0, 1, 1, 1] 3\n",
      "[1, 0, 0, 0] 1\n",
      "[1, 0, 0, 1] 2\n",
      "[1, 0, 1, 0] 2\n",
      "[1, 0, 1, 1] 3\n",
      "[1, 1, 0, 0] 2\n",
      "[1, 1, 0, 1] 3\n",
      "[1, 1, 1, 0] 3\n",
      "[1, 1, 1, 1] 4\n"
     ]
    }
   ],
   "source": [
    "for gene1 in [0, 1]:\n",
    "    for gene2 in [0, 1]:\n",
    "        for gene3 in [0, 1]:\n",
    "            for gene4 in [0, 1]:\n",
    "                individuo = [gene1, gene2, gene3, gene4]\n",
    "                fobj = funcao_objetivo_cb(individuo)\n",
    "                print(individuo, fobj)"
   ]
  },
  {
   "cell_type": "code",
   "execution_count": 3,
   "metadata": {},
   "outputs": [
    {
     "name": "stdout",
     "output_type": "stream",
     "text": [
      "(0, 0, 0, 0) 0\n",
      "(0, 0, 0, 1) 1\n",
      "(0, 0, 0, 2) 2\n",
      "(0, 0, 1, 0) 1\n",
      "(0, 0, 1, 1) 2\n",
      "(0, 0, 1, 2) 3\n",
      "(0, 1, 0, 0) 1\n",
      "(0, 1, 0, 1) 2\n",
      "(0, 1, 0, 2) 3\n",
      "(0, 1, 1, 0) 2\n",
      "(0, 1, 1, 1) 3\n",
      "(0, 1, 1, 2) 4\n",
      "(1, 0, 0, 0) 1\n",
      "(1, 0, 0, 1) 2\n",
      "(1, 0, 0, 2) 3\n",
      "(1, 0, 1, 0) 2\n",
      "(1, 0, 1, 1) 3\n",
      "(1, 0, 1, 2) 4\n",
      "(1, 1, 0, 0) 2\n",
      "(1, 1, 0, 1) 3\n",
      "(1, 1, 0, 2) 4\n",
      "(1, 1, 1, 0) 3\n",
      "(1, 1, 1, 1) 4\n",
      "(1, 1, 1, 2) 5\n"
     ]
    }
   ],
   "source": [
    "for individuo in itertools.product([0,1], [0,1], [0,1], [0,1, 2]):\n",
    "    fobj = funcao_objetivo_cb(individuo)\n",
    "    print(individuo, fobj)"
   ]
  },
  {
   "cell_type": "code",
   "execution_count": 4,
   "metadata": {},
   "outputs": [
    {
     "name": "stdout",
     "output_type": "stream",
     "text": [
      "(0, 0, 0, 0, 0, 0) 0\n",
      "(0, 0, 0, 0, 0, 1) 1\n",
      "(0, 0, 0, 0, 1, 0) 1\n",
      "(0, 0, 0, 0, 1, 1) 2\n",
      "(0, 0, 0, 1, 0, 0) 1\n",
      "(0, 0, 0, 1, 0, 1) 2\n",
      "(0, 0, 0, 1, 1, 0) 2\n",
      "(0, 0, 0, 1, 1, 1) 3\n",
      "(0, 0, 1, 0, 0, 0) 1\n",
      "(0, 0, 1, 0, 0, 1) 2\n",
      "(0, 0, 1, 0, 1, 0) 2\n",
      "(0, 0, 1, 0, 1, 1) 3\n",
      "(0, 0, 1, 1, 0, 0) 2\n",
      "(0, 0, 1, 1, 0, 1) 3\n",
      "(0, 0, 1, 1, 1, 0) 3\n",
      "(0, 0, 1, 1, 1, 1) 4\n",
      "(0, 1, 0, 0, 0, 0) 1\n",
      "(0, 1, 0, 0, 0, 1) 2\n",
      "(0, 1, 0, 0, 1, 0) 2\n",
      "(0, 1, 0, 0, 1, 1) 3\n",
      "(0, 1, 0, 1, 0, 0) 2\n",
      "(0, 1, 0, 1, 0, 1) 3\n",
      "(0, 1, 0, 1, 1, 0) 3\n",
      "(0, 1, 0, 1, 1, 1) 4\n",
      "(0, 1, 1, 0, 0, 0) 2\n",
      "(0, 1, 1, 0, 0, 1) 3\n",
      "(0, 1, 1, 0, 1, 0) 3\n",
      "(0, 1, 1, 0, 1, 1) 4\n",
      "(0, 1, 1, 1, 0, 0) 3\n",
      "(0, 1, 1, 1, 0, 1) 4\n",
      "(0, 1, 1, 1, 1, 0) 4\n",
      "(0, 1, 1, 1, 1, 1) 5\n",
      "(1, 0, 0, 0, 0, 0) 1\n",
      "(1, 0, 0, 0, 0, 1) 2\n",
      "(1, 0, 0, 0, 1, 0) 2\n",
      "(1, 0, 0, 0, 1, 1) 3\n",
      "(1, 0, 0, 1, 0, 0) 2\n",
      "(1, 0, 0, 1, 0, 1) 3\n",
      "(1, 0, 0, 1, 1, 0) 3\n",
      "(1, 0, 0, 1, 1, 1) 4\n",
      "(1, 0, 1, 0, 0, 0) 2\n",
      "(1, 0, 1, 0, 0, 1) 3\n",
      "(1, 0, 1, 0, 1, 0) 3\n",
      "(1, 0, 1, 0, 1, 1) 4\n",
      "(1, 0, 1, 1, 0, 0) 3\n",
      "(1, 0, 1, 1, 0, 1) 4\n",
      "(1, 0, 1, 1, 1, 0) 4\n",
      "(1, 0, 1, 1, 1, 1) 5\n",
      "(1, 1, 0, 0, 0, 0) 2\n",
      "(1, 1, 0, 0, 0, 1) 3\n",
      "(1, 1, 0, 0, 1, 0) 3\n",
      "(1, 1, 0, 0, 1, 1) 4\n",
      "(1, 1, 0, 1, 0, 0) 3\n",
      "(1, 1, 0, 1, 0, 1) 4\n",
      "(1, 1, 0, 1, 1, 0) 4\n",
      "(1, 1, 0, 1, 1, 1) 5\n",
      "(1, 1, 1, 0, 0, 0) 3\n",
      "(1, 1, 1, 0, 0, 1) 4\n",
      "(1, 1, 1, 0, 1, 0) 4\n",
      "(1, 1, 1, 0, 1, 1) 5\n",
      "(1, 1, 1, 1, 0, 0) 4\n",
      "(1, 1, 1, 1, 0, 1) 5\n",
      "(1, 1, 1, 1, 1, 0) 5\n",
      "(1, 1, 1, 1, 1, 1) 6\n"
     ]
    }
   ],
   "source": [
    "for individuo in itertools.product([0,1], repeat=6):\n",
    "    fobj = funcao_objetivo_cb(individuo)\n",
    "    print(individuo, fobj)"
   ]
  },
  {
   "cell_type": "markdown",
   "metadata": {},
   "source": [
    "## Conclusão\n",
    "\n"
   ]
  },
  {
   "cell_type": "markdown",
   "metadata": {},
   "source": [
    "Buscamos a solução através da busca em grade. Esse é um algorítimo do tipo determinístico, pois o algorítimo sempre irá encontrar um resultado esperado, e neste caso, o de maior soma.\n",
    "A busca em grade consegue encontrar os mínimos e máximos da função objetivo, pois ele irá varrer todos os valores possíveis de serem resultados, incluindo os de máximo e mínimo.\n",
    "\n",
    "**Pontos negativos: A falta de símbolos(0, 1).**"
   ]
  },
  {
   "cell_type": "markdown",
   "metadata": {},
   "source": [
    "## Playground\n",
    "\n"
   ]
  },
  {
   "cell_type": "code",
   "execution_count": null,
   "metadata": {},
   "outputs": [],
   "source": []
  }
 ],
 "metadata": {
  "kernelspec": {
   "display_name": "ilumpy",
   "language": "python",
   "name": "ilumpy"
  },
  "language_info": {
   "codemirror_mode": {
    "name": "ipython",
    "version": 3
   },
   "file_extension": ".py",
   "mimetype": "text/x-python",
   "name": "python",
   "nbconvert_exporter": "python",
   "pygments_lexer": "ipython3",
   "version": "3.9.7"
  },
  "org": null
 },
 "nbformat": 4,
 "nbformat_minor": 4
}
