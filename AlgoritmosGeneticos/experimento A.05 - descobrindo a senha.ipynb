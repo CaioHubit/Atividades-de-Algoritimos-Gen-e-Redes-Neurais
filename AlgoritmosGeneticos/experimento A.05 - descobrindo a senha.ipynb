{
 "cells": [
  {
   "cell_type": "markdown",
   "metadata": {},
   "source": [
    "Descobrindo a senha\n",
    "===================\n",
    "\n"
   ]
  },
  {
   "cell_type": "markdown",
   "metadata": {},
   "source": [
    "## Objetivo\n",
    "\n"
   ]
  },
  {
   "cell_type": "markdown",
   "metadata": {},
   "source": [
    "Usar um algoritmo genético para descobrir uma senha.\n",
    "\n"
   ]
  },
  {
   "cell_type": "markdown",
   "metadata": {},
   "source": [
    "## Descrição do problema\n",
    "\n"
   ]
  },
  {
   "cell_type": "markdown",
   "metadata": {},
   "source": [
    "Neste problema, a função objetivo deve saber a senha correta e quantificar de alguma maneira o quão perto ou longe os palpites estão da solução (veja que isso é algo que não temos no mundo real. Nenhum site irá te dizer se você está acertando ou errando seu palpite). O critério de parada deste problema é quando a senha for descoberta.\n",
    "\n"
   ]
  },
  {
   "cell_type": "markdown",
   "metadata": {},
   "source": [
    "## Importações\n",
    "\n"
   ]
  },
  {
   "cell_type": "code",
   "execution_count": 1,
   "metadata": {},
   "outputs": [],
   "source": [
    "from funcoes import populacao_inicial_senha\n",
    "from funcoes import funcao_objetivo_pop_senha\n",
    "from funcoes import selecao_torneio_min\n",
    "from funcoes import cruzamento_ponto_simples as funcao_cruzamento\n",
    "from funcoes import mutacao_senha\n",
    "import random"
   ]
  },
  {
   "cell_type": "markdown",
   "metadata": {},
   "source": [
    "## Códigos e discussão\n",
    "\n"
   ]
  },
  {
   "cell_type": "code",
   "execution_count": 2,
   "metadata": {},
   "outputs": [],
   "source": [
    "TAMANHO_POP = 500\n",
    "NUM_GERACOES = 2000\n",
    "CHANCE_CRUZAMENTO = 0.5\n",
    "CHANCE_MUTACAO = 0.05\n",
    "NUM_COMBATENTES_NO_TORNEIO = 3\n",
    "SENHA = \"correcthorsebatterystaple\"\n",
    "LETRAS_POSSIVEIS = \"abcdefghijklmnopqrstuvwxyz\"\n",
    "NUM_GENES = len(SENHA)"
   ]
  },
  {
   "cell_type": "code",
   "execution_count": 3,
   "metadata": {},
   "outputs": [],
   "source": [
    "def cria_populacao_inicial(tamanho, tamanho_senha):\n",
    "    return populacao_inicial_senha(tamanho, tamanho_senha, LETRAS_POSSIVEIS)\n",
    "\n",
    "def funcao_objetivo_pop(populacao):\n",
    "    return funcao_objetivo_pop_senha(populacao, SENHA)\n",
    "\n",
    "def funcao_selecao(populacao, fitness):\n",
    "    return selecao_torneio_min(populacao, fitness, NUM_COMBATENTES_NO_TORNEIO)\n",
    "\n",
    "def funcao_mutacao(individuo):\n",
    "    return mutacao_senha(individuo, LETRAS_POSSIVEIS)"
   ]
  },
  {
   "cell_type": "code",
   "execution_count": 4,
   "metadata": {},
   "outputs": [
    {
     "name": "stdout",
     "output_type": "stream",
     "text": [
      "Progresso da melhor senha já vista:\n",
      "jlukkioqtuuaesmunsymygtnb - fitness: 125\n",
      "carafdlgkopkcbwriswneamjn - fitness: 106\n",
      "cnrydjriognjciyrgmymygtnb - fitness: 89\n",
      "ipjohmuipqsdchwthlzrygtnb - fitness: 78\n",
      "cnrydjrioopkcbwriswqjfpmc - fitness: 65\n",
      "hrwschsmpqsdcatvdvvttcpeg - fitness: 53\n",
      "cnrydjrioqsdcawriswttcujd - fitness: 45\n",
      "cnrydduipqsdcatvdvvttcpsg - fitness: 38\n",
      "cnrodduipqsdcatvdvvttcpsg - fitness: 34\n",
      "cnrydduipqsdcatvdvvttcpmc - fitness: 32\n",
      "cnrndduipqsdcctthpztufpmc - fitness: 31\n",
      "bnrodduipqsdcatvdvvttcpmc - fitness: 29\n",
      "cnrydduipqsdcatthpzttcpmc - fitness: 28\n",
      "cnrsdduipqsdcatvgmyttcpmc - fitness: 25\n",
      "cnrrddripqsdcatthpzttcpmc - fitness: 22\n",
      "cnrrdduipqsdcatthpzrtcpmc - fitness: 21\n",
      "cnrrddujoqsdcattdpyttcpmc - fitness: 18\n",
      "cnrrdduipqsdcattdpzttapmc - fitness: 17\n",
      "cnrrdduipqsdcattdpzttapme - fitness: 15\n",
      "cnrrdduipqsdcattdpyttapme - fitness: 14\n",
      "cnrrdduioqsdcattdpyttapme - fitness: 13\n",
      "cnrrddtioqsdcattdpyttapme - fitness: 12\n",
      "cnrreduhoqsdcattdpyttapme - fitness: 11\n",
      "cnrredthoqsdcattfpyttapme - fitness: 10\n",
      "cnrredthoqsdcattdpyttaple - fitness: 9\n",
      "cnrredthoqsdcattdqyttaple - fitness: 8\n",
      "cnrredthoqsdbattdqyttaple - fitness: 7\n",
      "cnrrecthoqsdbattdqyttaple - fitness: 6\n",
      "correcthoqsdbattdqyttaple - fitness: 5\n",
      "correcthorsdbattdqyttaple - fitness: 4\n",
      "correcthorsdbattdqystaple - fitness: 3\n",
      "correcthorsdbatteqystaple - fitness: 2\n",
      "correcthorsebatteqystaple - fitness: 1\n",
      "correcthorsebatterystaple - fitness: 0\n",
      "\n",
      "Melhor palpite da senha encontrado:\n",
      "correcthqrsebattcrystaple\n"
     ]
    }
   ],
   "source": [
    "populacao = cria_populacao_inicial(TAMANHO_POP, NUM_GENES)\n",
    "\n",
    "melhor_fitness_ja_visto = float(\"inf\")  # é assim que escrevemos infinito em python\n",
    "\n",
    "print(\"Progresso da melhor senha já vista:\")\n",
    "\n",
    "for n in range(NUM_GERACOES):    \n",
    "    # Seleção\n",
    "    fitness = funcao_objetivo_pop(populacao)\n",
    "    populacao = funcao_selecao(populacao, fitness)\n",
    "    \n",
    "    # Cruzamento\n",
    "    pais = populacao[0::2]\n",
    "    maes = populacao[1::2]\n",
    "    \n",
    "    contador = 0\n",
    "    \n",
    "    for pai, mae in zip(pais, maes):\n",
    "        if random.random() <= CHANCE_CRUZAMENTO:\n",
    "            filho1, filho2 = funcao_cruzamento(pai, mae)\n",
    "            populacao[contador] = filho1\n",
    "            populacao[contador + 1] = filho2\n",
    "        \n",
    "        contador = contador + 2   \n",
    "        \n",
    "    # Mutação\n",
    "    for n in range(len(populacao)):\n",
    "        if random.random() <= CHANCE_MUTACAO:\n",
    "            individuo = populacao[n]\n",
    "            populacao[n] = funcao_mutacao(individuo)            \n",
    "            \n",
    "    # melhor individuo já visto até agora\n",
    "    fitness = funcao_objetivo_pop(populacao)\n",
    "    menor_fitness = min(fitness)\n",
    "    if menor_fitness < melhor_fitness_ja_visto:        \n",
    "        posicao = fitness.index(menor_fitness)\n",
    "        melhor_individuo_ja_visto = populacao[posicao]\n",
    "        melhor_fitness_ja_visto = menor_fitness\n",
    "        print(\"\".join(melhor_individuo_ja_visto), \"- fitness:\", melhor_fitness_ja_visto)\n",
    "\n",
    "print()\n",
    "print(\"Melhor palpite da senha encontrado:\")\n",
    "print(\"\".join(melhor_individuo_ja_visto))"
   ]
  },
  {
   "cell_type": "markdown",
   "metadata": {},
   "source": [
    "## Conclusão\n",
    "\n"
   ]
  },
  {
   "cell_type": "markdown",
   "metadata": {},
   "source": [
    "O método pode ser particularmente eficaz quando lidamos com senhas complexas e difíceis de serem adivinhadas por métodos tradicionais. Além disso, o algoritmo genético pode ser usado em conjunto com outras técnicas de otimização, como buscas locais, para aumentar ainda mais a eficácia do método. No entanto, é importante notar que o sucesso do método depende muito da escolha dos parâmetros do algoritmo genético, como tamanho da população, taxa de cruzamento e taxa de mutação. Além disso, o método pode levar a soluções subótimas se a função de avaliação não for bem definida ou se a população inicial de soluções aleatórias não for suficientemente diversa."
   ]
  },
  {
   "cell_type": "markdown",
   "metadata": {},
   "source": [
    "## Playground\n",
    "\n"
   ]
  },
  {
   "cell_type": "code",
   "execution_count": null,
   "metadata": {},
   "outputs": [],
   "source": []
  }
 ],
 "metadata": {
  "kernelspec": {
   "display_name": "ilumpy",
   "language": "python",
   "name": "ilumpy"
  },
  "language_info": {
   "codemirror_mode": {
    "name": "ipython",
    "version": 3
   },
   "file_extension": ".py",
   "mimetype": "text/x-python",
   "name": "python",
   "nbconvert_exporter": "python",
   "pygments_lexer": "ipython3",
   "version": "3.9.7"
  },
  "org": null
 },
 "nbformat": 4,
 "nbformat_minor": 4
}
