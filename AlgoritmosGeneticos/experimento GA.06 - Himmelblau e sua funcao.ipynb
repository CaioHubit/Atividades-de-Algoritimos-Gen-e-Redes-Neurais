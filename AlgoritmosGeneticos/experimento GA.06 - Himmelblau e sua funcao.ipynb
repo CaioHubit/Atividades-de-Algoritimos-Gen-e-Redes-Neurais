{
 "cells": [
  {
   "cell_type": "markdown",
   "id": "7228b0fa-14a2-4fe4-82f0-04e80fe8e55b",
   "metadata": {
    "tags": []
   },
   "source": [
    "## A FUNÇÃO DE HIMMELBLAU"
   ]
  },
  {
   "cell_type": "markdown",
   "id": "02e97ba2-05e0-44d3-a705-6e6c6ada7b98",
   "metadata": {},
   "source": [
    "<hr"
   ]
  },
  {
   "cell_type": "markdown",
   "id": "660c69d3-801d-42e7-b42f-1dbb6866a4ba",
   "metadata": {},
   "source": [
    "## Introdução"
   ]
  },
  {
   "cell_type": "markdown",
   "id": "bd9360ef-5089-4717-a2f2-c0a358f09ccd",
   "metadata": {},
   "source": [
    "**CONHECENDO A FUNÇÃO DE HIMMELBLAU**\n",
    "\n",
    "<div style=' text-align: justify; text-justify: inter-word;'>\n",
    "A presente atividade tem como objetivo a resolução do problema de otimização da função Himmelblau por meio do uso de algoritmos genéticos. A função Himmelblau é conhecida por possuir múltiplos pontos de mínimo local, o que torna o desafio de encontrar o mínimo global ainda mais complexo. O foco principal é encontrar a coordenada (𝑥,𝑦) que corresponde ao ponto de mínimo global dessa função.\n",
    "$$\n",
    "f(x,y) = (x^2 +y -11)^2 + (x + y^2 - 7)^2,\n",
    "$$</div>"
   ]
  },
  {
   "cell_type": "markdown",
   "id": "3dbb5bfd-b052-4aa7-8f6a-07f849485264",
   "metadata": {},
   "source": [
    "**Observação:**\n",
    "\n",
    "<justify>Máximos e mínimos globais de uma função podem ser calculados com diferentes recursos, como gradiente e funções matemáticas mais simples.</justify>"
   ]
  },
  {
   "cell_type": "markdown",
   "id": "d1469293-fb3e-4aba-962f-49145acc6644",
   "metadata": {},
   "source": [
    "## Importações"
   ]
  },
  {
   "cell_type": "markdown",
   "id": "b4008c11-3097-47fc-8241-78718137cc9d",
   "metadata": {},
   "source": [
    "Todos os comandos de import devem estar dentro desta seção."
   ]
  },
  {
   "cell_type": "code",
   "execution_count": 1,
   "id": "446f9c99-45cb-4cbf-87ec-c7dc372d2e90",
   "metadata": {},
   "outputs": [],
   "source": [
    "import math\n",
    "import numpy as np"
   ]
  },
  {
   "cell_type": "markdown",
   "id": "54259435-a657-4946-9781-090e19c551b0",
   "metadata": {},
   "source": [
    "> <hr>"
   ]
  },
  {
   "cell_type": "markdown",
   "id": "e41b342a-a17a-4ae4-bb72-0bbb0a3d2a43",
   "metadata": {},
   "source": [
    "### Pre discussão:\n",
    "\n",
    "No caso do problema de Himmelblau, que envolve uma função não linear com múltiplos mínimos e máximos locais, a utilização de algoritmos genéticos pode ser uma abordagem promissora. Os algoritmos genéticos têm a capacidade de explorar o espaço de busca de forma ampla e simultaneamente, permitindo que diferentes soluções sejam avaliadas e combinadas.\n",
    "\n",
    "No entanto, é importante considerar que a eficácia dos algoritmos genéticos depende de diversos fatores, como o tamanho da população, a taxa de cruzamento e mutação, os operadores genéticos utilizados e a configuração dos parâmetros. Além disso, a convergência para o mínimo global não é garantida, especialmente em problemas complexos."
   ]
  },
  {
   "cell_type": "markdown",
   "id": "c8df8758-977e-42ca-b90b-1fe3fa1ea1fe",
   "metadata": {},
   "source": [
    "**Resolvendo**"
   ]
  },
  {
   "cell_type": "markdown",
   "id": "7370aeab-f77d-43c7-8f07-991544103f88",
   "metadata": {},
   "source": [
    "## Códigos e discussão"
   ]
  },
  {
   "cell_type": "markdown",
   "id": "eb298590-0932-46e6-bbdd-39b01a489f6e",
   "metadata": {},
   "source": [
    "#### O que eu vou fazer/Resolver:\n",
    "<div style=' text-align: justify; text-justify: inter-word;'> \n",
    "    \n",
    "    \n",
    "**Representação dos indivíduos:** Neste caso, cada indivíduo pode ser representado por um par de coordenadas (𝑥,𝑦) que correspondem a um ponto no espaço de busca.\n",
    "\n",
    "**Criação da população inicial:** Gere uma população inicial de indivíduos de forma aleatória ou utilizando alguma estratégia específica, o qual ainda não sei ao certo.\n",
    "\n",
    "**Avaliação dos indivíduos:** Calcular função Himmelblau para cada indivíduo da população.\n",
    "\n",
    "**Seleção dos pais:** Usarei provavelmente o método da roleta, ou um outro o qual estou vendo que o \"roleta viciada\", em que indivíduos com melhor desempenho têm maior probabilidade de serem selecionados.\n",
    "\n",
    "**Cruzamento:** Assim vou gerar novos indivíduos que combinam características das soluções existentes.\n",
    "\n",
    "**Mutação:** Pra mim não faz sentido, mas pode ter algo relevante.\n",
    "\n",
    "**Atualização da população:** Pra subtituir a população atual pela nova população gerada após o cruzamento e a mutação.\n",
    "\n",
    "**Critério de parada:** Acho que faz snetido colocar o clitério de parada como número de gerações.\n",
    "\n",
    "**Retorno da melhor solução:** Quando atingir o critério de parada, ele irá retornar a melhor solução encontrada, ou seja, a coordenada (𝑥,𝑦) que corresponde ao ponto de mínimo global da função Himmelblau.\n"
   ]
  },
  {
   "cell_type": "code",
   "execution_count": 2,
   "id": "dc791fc2-ee25-4b8f-86e7-1e6ffb63723e",
   "metadata": {},
   "outputs": [],
   "source": [
    "\n",
    "def himmelblau(x, y):\n",
    "    a = ((x)**2 + y - 11)**2\n",
    "    b = (x + (y)**2 - 7)**2\n",
    "    return a + b\n",
    "\n",
    "def gene\n",
    "\n",
    "def populacao_hmb\n",
    "\n",
    "def "
   ]
  },
  {
   "cell_type": "markdown",
   "id": "1eea61ad-5db5-4a6c-a0b3-5d0a2e3b1de4",
   "metadata": {},
   "source": [
    "> <hr>"
   ]
  },
  {
   "cell_type": "markdown",
   "id": "9b4fd7d8-d21d-4e50-8c5d-8fb7a9d461c8",
   "metadata": {
    "tags": []
   },
   "source": [
    "## Conclusão"
   ]
  },
  {
   "cell_type": "markdown",
   "id": "03ee2497-cd49-41e5-be4e-34d0e32b2ad9",
   "metadata": {},
   "source": []
  },
  {
   "cell_type": "markdown",
   "id": "6b052c26-93f4-4adf-9692-45859f7ac4f3",
   "metadata": {},
   "source": [
    "<hr>"
   ]
  },
  {
   "cell_type": "markdown",
   "id": "5f7665f5-ef13-4aa4-8eb5-fab83e412c67",
   "metadata": {},
   "source": [
    "## Referências"
   ]
  },
  {
   "cell_type": "markdown",
   "id": "98388508-9364-49c5-879b-d5b7668ecfb9",
   "metadata": {},
   "source": [
    "[1] INDUSMIC. **Himmelblau Function**. Disponível em: <https://www.indusmic.com/post/himmelblau-function>. \n",
    "<br>[2] Mathematics. **Separable and non-separable functions**. Diponível em: <https://math.stackexchange.com/questions/1186673/separable-and-non-separable-function>. \n",
    "<br>[3] Learning Monkey. **Convex Non-Convex Functions and Contour for Neural Network**. Disponível em: <https://www.youtube.com/watch?v=qyqZ3VlkzvI>. \n",
    "<br>[4] WIKIPEDIA. **Himmelblau's function**. Disponível em: <https://en.wikipedia.org/wiki/Himmelblau%27s_function>. \n",
    "<br>[5] Imagem 01. Disponível em: <https://static.wixstatic.com/media/40af5e_2bff1fbea4d74421ab26296ae44593d0~mv2.png/v1/fill/w_440,h_452,al_c,q_85,usm_0.66_1.00_0.01,enc_auto/40af5e_2bff1fbea4d74421ab26296ae44593d0~mv2.png>.\n"
   ]
  },
  {
   "cell_type": "markdown",
   "id": "bd08f5e8-8296-48fe-bcd8-219196fe5cad",
   "metadata": {},
   "source": [
    "## Playground"
   ]
  },
  {
   "cell_type": "code",
   "execution_count": null,
   "id": "5fdb1aec-7485-475e-8ca1-a7d9f87ee71b",
   "metadata": {},
   "outputs": [],
   "source": []
  }
 ],
 "metadata": {
  "kernelspec": {
   "display_name": "ilumpy",
   "language": "python",
   "name": "ilumpy"
  },
  "language_info": {
   "codemirror_mode": {
    "name": "ipython",
    "version": 3
   },
   "file_extension": ".py",
   "mimetype": "text/x-python",
   "name": "python",
   "nbconvert_exporter": "python",
   "pygments_lexer": "ipython3",
   "version": "3.9.7"
  }
 },
 "nbformat": 4,
 "nbformat_minor": 5
}
