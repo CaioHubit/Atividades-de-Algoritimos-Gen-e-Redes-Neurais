{
 "cells": [
  {
   "cell_type": "code",
   "execution_count": 2,
   "id": "3fcbba2f-3ec6-46c7-8c0b-d230cb709e43",
   "metadata": {},
   "outputs": [
    {
     "ename": "IndentationError",
     "evalue": "unexpected indent (Temp/ipykernel_9512/1771347934.py, line 16)",
     "output_type": "error",
     "traceback": [
      "\u001b[1;36m  File \u001b[1;32m\"C:\\Users\\CAIO22~1\\AppData\\Local\\Temp/ipykernel_9512/1771347934.py\"\u001b[1;36m, line \u001b[1;32m16\u001b[0m\n\u001b[1;33m    bissecao(cos,0,3, 1e-6)\u001b[0m\n\u001b[1;37m    ^\u001b[0m\n\u001b[1;31mIndentationError\u001b[0m\u001b[1;31m:\u001b[0m unexpected indent\n"
     ]
    }
   ],
   "source": [
    "\n",
    "def bissecao(f,a,b,prec):\n",
    "    \"\"\" Método da bisseção para uma função f no intervalo [a,b]. \"\"\"\n",
    "    m = (a+b)/2\n",
    "    # Se já há precisão suficiente, retornamos o ponto médio do intervalo\n",
    "    if abs(b - a) < prec: return m\n",
    "    # Se f(m) == 0, achamos uma raiz exata!\n",
    "    if f(m) == 0: return m\n",
    "\n",
    "    # Senão, vamos por recorrência\n",
    "    if f(m)*f(a) < 0: return bissecao(f,a,m,prec)\n",
    "    else: return bissecao(f,m,b,prec)\n",
    "\n",
    "\"\"\"Um exemplo de teste: o cosseno tem uma raiz,  π/2 , no intervalo [0,3].\"\"\"\n",
    "\n",
    "from math import cos\n",
    "    bissecao(cos,0,3, 1e-6)\n",
    "\n",
    "from math import pi\n",
    "    pi/2 - _\n",
    "\n",
    "\"\"\"Teste com outras funções de x, no caso 2^x-x^2\"\"\"\n",
    "\n",
    "def estranha(x):\n",
    "    return 2**x - x**2\n",
    "\n",
    "bissecao(estranha, -1, 0, 1e-6)"
   ]
  },
  {
   "cell_type": "code",
   "execution_count": 17,
   "id": "f4186ae7-8d13-4bd8-ab54-7ed286b11215",
   "metadata": {},
   "outputs": [
    {
     "name": "stdout",
     "output_type": "stream",
     "text": [
      "A raiz da função:  -3.9941\n"
     ]
    }
   ],
   "source": [
    "# A Função sendo f(x)=x^3+x^2-10^x+8 \n",
    "def func(x):\n",
    "    return x*x*x + x*x - 10*x + 8\n",
    "\n",
    "def bisection(a,b):\n",
    " \n",
    "    if (func(a) * func(b) >= 0):\n",
    "        return\n",
    "  \n",
    "    c = a\n",
    "    while ((b-a) >= 0.01):\n",
    " \n",
    "        # Checando o meio\n",
    "        c = (a+b)/2\n",
    "  \n",
    "        # Aonde deve parar\n",
    "        if (func(c) == 0.0):\n",
    "            break\n",
    "  \n",
    "        # Os passos que irão se repetir\n",
    "        if (func(c)*func(a) < 0):\n",
    "            b = c\n",
    "        else:\n",
    "            a = c\n",
    "             \n",
    "    print(\"A raiz da função: \",\"%.4f\"%c)\n",
    "     \n",
    "a = -5\n",
    "b = 5\n",
    "bisection(a, b)"
   ]
  },
  {
   "cell_type": "code",
   "execution_count": null,
   "id": "20d85839-0744-429a-8dff-51754342f863",
   "metadata": {},
   "outputs": [],
   "source": [
    "# A Função sendo f(x)=x^3+x^2-10^x+8 \n",
    "def func(x):\n",
    "    return x*x*x + x*x - 10*x + 8\n",
    "\n",
    "def bisection(a,b):\n",
    " \n",
    "    if (func(a) * func(b) >= 0):\n",
    "        return\n",
    "  \n",
    "    c = a\n",
    "    while ((b-a) >= 0.01):\n",
    " \n",
    "        # Checando o meio\n",
    "        c = (a+b)/2\n",
    "  \n",
    "        # Aonde deve parar\n",
    "        if (func(c) == 0.0):\n",
    "            break\n",
    "  \n",
    "        # Os passos que irão se repetir\n",
    "        if (func(c)*func(a) < 0):\n",
    "            b = c\n",
    "        else:\n",
    "            a = c\n",
    "             \n",
    "    print(\"A raiz da função: \",\"%.4f\"%c)\n",
    "     \n",
    "a = -5\n",
    "b = 5\n",
    "bisection(a, b)"
   ]
  }
 ],
 "metadata": {
  "kernelspec": {
   "display_name": "ilumpy",
   "language": "python",
   "name": "ilumpy"
  },
  "language_info": {
   "codemirror_mode": {
    "name": "ipython",
    "version": 3
   },
   "file_extension": ".py",
   "mimetype": "text/x-python",
   "name": "python",
   "nbconvert_exporter": "python",
   "pygments_lexer": "ipython3",
   "version": "3.9.7"
  }
 },
 "nbformat": 4,
 "nbformat_minor": 5
}
